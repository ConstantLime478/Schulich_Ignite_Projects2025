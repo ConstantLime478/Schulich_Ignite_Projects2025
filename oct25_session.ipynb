{
 "cells": [
  {
   "cell_type": "markdown",
   "id": "0bd6378e",
   "metadata": {},
   "source": [
    "## Objects and Class\n",
    "This session is about learnin objects in Python."
   ]
  },
  {
   "cell_type": "markdown",
   "id": "4a8bec62",
   "metadata": {},
   "source": [
    "Reference: https://docs.google.com/presentation/d/1ulQhulHG-8e6eOqMfaPCg9VyZRRiCKzFaSfdPJMe2oI/edit?usp=sharing\n"
   ]
  },
  {
   "cell_type": "code",
   "execution_count": 18,
   "id": "77ae7bb6",
   "metadata": {},
   "outputs": [
    {
     "data": {
      "text/plain": [
       "(5, 0)"
      ]
     },
     "execution_count": 18,
     "metadata": {},
     "output_type": "execute_result"
    }
   ],
   "source": [
    "import os\n",
    "import pygame\n",
    "pygame.init()\n",
    "\n"
   ]
  },
  {
   "cell_type": "code",
   "execution_count": 19,
   "id": "8d5c710b",
   "metadata": {},
   "outputs": [],
   "source": [
    "# create a rect directly with (x, y, width, height)\n",
    "rect_1 = pygame.Rect(50, 100, 125, 60)\n",
    "\n",
    "rect_1.x = 510\n",
    "rect_1.y = 200\n",
    "rect_1.width = 150\n",
    "rect_1.height = 65\n",
    "\n",
    "\n",
    "\n",
    "rect_2 = rect_1.copy()\n"
   ]
  },
  {
   "cell_type": "code",
   "execution_count": 20,
   "id": "054ecbf6",
   "metadata": {},
   "outputs": [],
   "source": [
    "rect_2.x = 200\n",
    "rect_2.y = 200\n",
    "rect_2.width = 75\n",
    "rect_2.height = 100"
   ]
  },
  {
   "cell_type": "code",
   "execution_count": 21,
   "id": "76bd096b",
   "metadata": {},
   "outputs": [
    {
     "name": "stdout",
     "output_type": "stream",
     "text": [
      "<rect(510, 200, 150, 65)>\n",
      "<rect(200, 200, 75, 100)>\n"
     ]
    }
   ],
   "source": [
    "print(rect_1)  # <rect(510, 200, 150, 65)>\n",
    "print(rect_2)  # <rect(200, 200, 75,"
   ]
  },
  {
   "cell_type": "markdown",
   "id": "35f247b1",
   "metadata": {},
   "source": [
    "Slide: Parts of a Class"
   ]
  },
  {
   "cell_type": "code",
   "execution_count": 29,
   "id": "1cb8aa88",
   "metadata": {},
   "outputs": [],
   "source": [
    "class Dog:\n",
    "    def __init__(self, name, age, breed):\n",
    "        self.name = name\n",
    "        self.age = age\n",
    "        self.breed = breed\n",
    "\n",
    "    def bark(self):\n",
    "        return \"Woof!\"  \n",
    "    def get_info(self):\n",
    "        return f\"{self.name} is a {self.age}-year-old {self.breed}.\"\n"
   ]
  },
  {
   "cell_type": "code",
   "execution_count": 31,
   "id": "72b7680d",
   "metadata": {},
   "outputs": [
    {
     "name": "stdout",
     "output_type": "stream",
     "text": [
      "Woof!\n",
      "Buddy is a 3-year-old Golden Retriever.\n",
      "Max is a 5-year-old German Shepherd.\n"
     ]
    }
   ],
   "source": [
    "dog_1 = Dog(\"Buddy\", 3, \"Golden Retriever\")\n",
    "dog_2 = Dog(\"Max\", 5, \"German Shepherd\")\n",
    "\n",
    "print(dog_1.bark())\n",
    "print(dog_1.get_info())\n",
    "\n",
    "print(dog_2.get_info())"
   ]
  },
  {
   "cell_type": "markdown",
   "id": "9f1151fc",
   "metadata": {},
   "source": [
    "Slides: Building my own class."
   ]
  },
  {
   "cell_type": "code",
   "execution_count": 35,
   "id": "78d183eb",
   "metadata": {},
   "outputs": [],
   "source": [
    "class Snake:\n",
    "    def __init__(self, my_name):\n",
    "        self.name = my_name\n",
    "        print(\"Ssssss\")"
   ]
  },
  {
   "cell_type": "code",
   "execution_count": 36,
   "id": "fd14c073",
   "metadata": {},
   "outputs": [
    {
     "name": "stdout",
     "output_type": "stream",
     "text": [
      "Ssssss\n",
      "Buttercup\n"
     ]
    }
   ],
   "source": [
    "my_snake = Snake(\"Buttercup\")\n",
    "snake_name = my_snake.name\n",
    "print(snake_name)  # Output: Buttercup"
   ]
  },
  {
   "cell_type": "code",
   "execution_count": null,
   "id": "a8140d79",
   "metadata": {},
   "outputs": [],
   "source": []
  }
 ],
 "metadata": {
  "kernelspec": {
   "display_name": ".venv",
   "language": "python",
   "name": "python3"
  },
  "language_info": {
   "codemirror_mode": {
    "name": "ipython",
    "version": 3
   },
   "file_extension": ".py",
   "mimetype": "text/x-python",
   "name": "python",
   "nbconvert_exporter": "python",
   "pygments_lexer": "ipython3",
   "version": "3.13.8"
  }
 },
 "nbformat": 4,
 "nbformat_minor": 5
}
